{
 "cells": [
  {
   "cell_type": "code",
   "execution_count": 10,
   "metadata": {},
   "outputs": [],
   "source": [
    "import numpy as np\n",
    "import os\n",
    "\n",
    "# this is for loading the data\n",
    "def load_fall_X(file_name):\n",
    "    temp = np.memmap(file_name, dtype='float32', mode='r')\n",
    "    X = np.reshape(temp, [-1, 256, 6])\n",
    "    return X\n",
    "\n",
    "# this is for loading the labels (one-hot encoding: [1, 0, 0]-->nonfall, [0, 1, 0]-->pre-impact fall, [0, 0, 1]-->fall\t\n",
    "def load_fall_y(file_name):\n",
    "    temp = np.memmap(file_name, dtype='int8', mode='r')\n",
    "    y= np.reshape(temp, [-1, 3])\n",
    "    return y\n",
    "\n",
    "def dset_fpath(fname):\n",
    "    _fp = os.path.abspath('.')\n",
    "    _hp = \"wobblewatch\"\n",
    "    _fp = _fp.split(_hp)[0]\n",
    "    return os.path.abspath(\"%s/%s/data/pre-processed_dataset/%s\" % (_fp, _hp, fname))"
   ]
  },
  {
   "cell_type": "code",
   "execution_count": 11,
   "metadata": {},
   "outputs": [],
   "source": [
    "test  = {'X': {}, 'y': {}}\n",
    "train = {'X': {}, 'y': {}}\n",
    "for i in range(5):\n",
    "    test['X'][i] = load_fall_X(dset_fpath(\"test_x_%i\" % i))\n",
    "    test['y'][i] = load_fall_y(dset_fpath(\"test_y_%i\" % i))\n",
    "    train['X'][i] = load_fall_X(dset_fpath(\"train_x_%i\" % i))\n",
    "    train['y'][i] = load_fall_y(dset_fpath(\"train_y_%i\" % i))"
   ]
  },
  {
   "cell_type": "code",
   "execution_count": 12,
   "metadata": {},
   "outputs": [
    {
     "name": "stdout",
     "output_type": "stream",
     "text": [
      "Set 0\n",
      " X train shape: (75025, 256, 6)\n",
      " y train shape: (75025, 3)\n",
      " X test shape:  (19064, 256, 6)\n",
      " y test shape:  (19064, 3)\n",
      "Set 1\n",
      " X train shape: (73347, 256, 6)\n",
      " y train shape: (73347, 3)\n",
      " X test shape:  (20742, 256, 6)\n",
      " y test shape:  (20742, 3)\n",
      "Set 2\n",
      " X train shape: (73534, 256, 6)\n",
      " y train shape: (73534, 3)\n",
      " X test shape:  (20555, 256, 6)\n",
      " y test shape:  (20555, 3)\n",
      "Set 3\n",
      " X train shape: (77296, 256, 6)\n",
      " y train shape: (77296, 3)\n",
      " X test shape:  (16793, 256, 6)\n",
      " y test shape:  (16793, 3)\n",
      "Set 4\n",
      " X train shape: (77154, 256, 6)\n",
      " y train shape: (77154, 3)\n",
      " X test shape:  (16935, 256, 6)\n",
      " y test shape:  (16935, 3)\n"
     ]
    }
   ],
   "source": [
    "for i in range(5):\n",
    "    print(\"Set\", i)\n",
    "    print(\" X train shape:\", train['X'][i].shape)\n",
    "    print(\" y train shape:\", train['y'][i].shape)\n",
    "    print(\" X test shape: \", test['X'][i].shape)\n",
    "    print(\" y test shape: \", test['y'][i].shape)"
   ]
  },
  {
   "cell_type": "code",
   "execution_count": 23,
   "metadata": {
    "scrolled": true
   },
   "outputs": [
    {
     "data": {
      "text/plain": [
       "{0: memmap([[1, 0, 0],\n",
       "         [1, 0, 0],\n",
       "         [1, 0, 0],\n",
       "         ...,\n",
       "         [1, 0, 0],\n",
       "         [1, 0, 0],\n",
       "         [1, 0, 0]], dtype=int8),\n",
       " 1: memmap([[1, 0, 0],\n",
       "         [1, 0, 0],\n",
       "         [1, 0, 0],\n",
       "         ...,\n",
       "         [1, 0, 0],\n",
       "         [1, 0, 0],\n",
       "         [1, 0, 0]], dtype=int8),\n",
       " 2: memmap([[1, 0, 0],\n",
       "         [1, 0, 0],\n",
       "         [1, 0, 0],\n",
       "         ...,\n",
       "         [1, 0, 0],\n",
       "         [1, 0, 0],\n",
       "         [1, 0, 0]], dtype=int8),\n",
       " 3: memmap([[1, 0, 0],\n",
       "         [1, 0, 0],\n",
       "         [1, 0, 0],\n",
       "         ...,\n",
       "         [1, 0, 0],\n",
       "         [1, 0, 0],\n",
       "         [1, 0, 0]], dtype=int8),\n",
       " 4: memmap([[1, 0, 0],\n",
       "         [1, 0, 0],\n",
       "         [1, 0, 0],\n",
       "         ...,\n",
       "         [1, 0, 0],\n",
       "         [1, 0, 0],\n",
       "         [1, 0, 0]], dtype=int8)}"
      ]
     },
     "execution_count": 23,
     "metadata": {},
     "output_type": "execute_result"
    }
   ],
   "source": [
    "train['y']"
   ]
  },
  {
   "cell_type": "code",
   "execution_count": null,
   "metadata": {},
   "outputs": [],
   "source": []
  },
  {
   "cell_type": "code",
   "execution_count": 27,
   "metadata": {},
   "outputs": [
    {
     "ename": "IndexError",
     "evalue": "too many indices for array",
     "output_type": "error",
     "traceback": [
      "\u001b[0;31m---------------------------------------------------------------------------\u001b[0m",
      "\u001b[0;31mIndexError\u001b[0m                                Traceback (most recent call last)",
      "\u001b[0;32m<ipython-input-27-b334fde5ebc8>\u001b[0m in \u001b[0;36m<module>\u001b[0;34m\u001b[0m\n\u001b[1;32m     10\u001b[0m \u001b[0my\u001b[0m \u001b[0;34m=\u001b[0m \u001b[0mnp\u001b[0m\u001b[0;34m.\u001b[0m\u001b[0marray\u001b[0m\u001b[0;34m(\u001b[0m\u001b[0my\u001b[0m\u001b[0;34m)\u001b[0m\u001b[0;34m\u001b[0m\u001b[0;34m\u001b[0m\u001b[0m\n\u001b[1;32m     11\u001b[0m \u001b[0mX\u001b[0m \u001b[0;34m=\u001b[0m \u001b[0mtrain\u001b[0m\u001b[0;34m[\u001b[0m\u001b[0;34m'X'\u001b[0m\u001b[0;34m]\u001b[0m\u001b[0;34m\u001b[0m\u001b[0;34m\u001b[0m\u001b[0m\n\u001b[0;32m---> 12\u001b[0;31m \u001b[0my\u001b[0m\u001b[0;34m[\u001b[0m\u001b[0;34m:\u001b[0m\u001b[0;34m,\u001b[0m\u001b[0;36m0\u001b[0m\u001b[0;34m]\u001b[0m \u001b[0;34m==\u001b[0m \u001b[0;36m0\u001b[0m\u001b[0;34m\u001b[0m\u001b[0;34m\u001b[0m\u001b[0m\n\u001b[0m\u001b[1;32m     13\u001b[0m \u001b[0m_X\u001b[0m \u001b[0;34m=\u001b[0m \u001b[0mX\u001b[0m\u001b[0;34m[\u001b[0m\u001b[0msetnum\u001b[0m\u001b[0;34m]\u001b[0m\u001b[0;34m[\u001b[0m\u001b[0mindex\u001b[0m\u001b[0;34m]\u001b[0m\u001b[0;34m\u001b[0m\u001b[0;34m\u001b[0m\u001b[0m\n\u001b[1;32m     14\u001b[0m \u001b[0mplt\u001b[0m\u001b[0;34m.\u001b[0m\u001b[0mplot\u001b[0m\u001b[0;34m(\u001b[0m\u001b[0m_X\u001b[0m\u001b[0;34m[\u001b[0m\u001b[0;34m:\u001b[0m\u001b[0;34m,\u001b[0m\u001b[0mcol\u001b[0m\u001b[0;34m]\u001b[0m\u001b[0;34m)\u001b[0m\u001b[0;34m\u001b[0m\u001b[0;34m\u001b[0m\u001b[0m\n",
      "\u001b[0;31mIndexError\u001b[0m: too many indices for array"
     ]
    }
   ],
   "source": [
    "import matplotlib.pyplot as plt\n",
    "\n",
    "setnum = 0\n",
    "index = 0\n",
    "\n",
    "col_start = {\"acc\": 0, \"rot\": 3}\n",
    "col = col_start['rot']\n",
    "X, y = train['X'], train['y']\n",
    "X = np.array(X)\n",
    "y = np.array(y)\n",
    "X = train['X']\n",
    "y[:,0] == 0\n",
    "_X = X[setnum][index]\n",
    "plt.plot(_X[:,col])\n",
    "plt.plot(_X[:,col+1])\n",
    "plt.plot(_X[:,col+2])"
   ]
  },
  {
   "cell_type": "code",
   "execution_count": 31,
   "metadata": {},
   "outputs": [
    {
     "name": "stdout",
     "output_type": "stream",
     "text": [
      "Model: \"sequential_1\"\n",
      "_________________________________________________________________\n",
      "Layer (type)                 Output Shape              Param #   \n",
      "=================================================================\n",
      "conv1d_4 (Conv1D)            (None, 254, 64)           1216      \n",
      "_________________________________________________________________\n",
      "batch_normalization_5 (Batch (None, 254, 64)           256       \n",
      "_________________________________________________________________\n",
      "re_lu (ReLU)                 (None, 254, 64)           0         \n",
      "_________________________________________________________________\n",
      "max_pooling1d_4 (MaxPooling1 (None, 127, 64)           0         \n",
      "_________________________________________________________________\n",
      "conv1d_5 (Conv1D)            (None, 125, 64)           12352     \n",
      "_________________________________________________________________\n",
      "batch_normalization_6 (Batch (None, 125, 64)           256       \n",
      "_________________________________________________________________\n",
      "re_lu_1 (ReLU)               (None, 125, 64)           0         \n",
      "_________________________________________________________________\n",
      "max_pooling1d_5 (MaxPooling1 (None, 62, 64)            0         \n",
      "_________________________________________________________________\n",
      "conv1d_6 (Conv1D)            (None, 60, 64)            12352     \n",
      "_________________________________________________________________\n",
      "batch_normalization_7 (Batch (None, 60, 64)            256       \n",
      "_________________________________________________________________\n",
      "re_lu_2 (ReLU)               (None, 60, 64)            0         \n",
      "_________________________________________________________________\n",
      "max_pooling1d_6 (MaxPooling1 (None, 30, 64)            0         \n",
      "_________________________________________________________________\n",
      "conv1d_7 (Conv1D)            (None, 28, 64)            12352     \n",
      "_________________________________________________________________\n",
      "batch_normalization_8 (Batch (None, 28, 64)            256       \n",
      "_________________________________________________________________\n",
      "re_lu_3 (ReLU)               (None, 28, 64)            0         \n",
      "_________________________________________________________________\n",
      "max_pooling1d_7 (MaxPooling1 (None, 14, 64)            0         \n",
      "_________________________________________________________________\n",
      "dense_2 (Dense)              (None, 14, 32)            2080      \n",
      "_________________________________________________________________\n",
      "batch_normalization_9 (Batch (None, 14, 32)            128       \n",
      "_________________________________________________________________\n",
      "dropout_3 (Dropout)          (None, 14, 32)            0         \n",
      "_________________________________________________________________\n",
      "lstm_2 (LSTM)                (None, 14, 32)            8320      \n",
      "_________________________________________________________________\n",
      "dropout_4 (Dropout)          (None, 14, 32)            0         \n",
      "_________________________________________________________________\n",
      "lstm_3 (LSTM)                (None, 14, 32)            8320      \n",
      "_________________________________________________________________\n",
      "dropout_5 (Dropout)          (None, 14, 32)            0         \n",
      "_________________________________________________________________\n",
      "flatten_1 (Flatten)          (None, 448)               0         \n",
      "_________________________________________________________________\n",
      "dense_3 (Dense)              (None, 3)                 1347      \n",
      "=================================================================\n",
      "Total params: 59,491\n",
      "Trainable params: 58,915\n",
      "Non-trainable params: 576\n",
      "_________________________________________________________________\n",
      "None\n"
     ]
    }
   ],
   "source": [
    "import tensorflow as tf\n",
    "from tensorflow.keras import datasets, layers, models, optimizers\n",
    "import matplotlib.pyplot as plt\n",
    "\n",
    "n_timesteps = 256\n",
    "n_features = 6\n",
    "n_outputs = 3\n",
    "\n",
    "model = models.Sequential()\n",
    "\n",
    "# First CNN layer\n",
    "model.add(layers.Conv1D(kernel_size=3, \n",
    "                        filters=64, \n",
    "                        activation='relu', \n",
    "                        input_shape=(n_timesteps, n_features)))\n",
    "model.add(layers.BatchNormalization())\n",
    "model.add(layers.ReLU())\n",
    "model.add(layers.MaxPooling1D(2))\n",
    "\n",
    "# Second CNN layer\n",
    "model.add(layers.Conv1D(kernel_size = 3, \n",
    "                        filters = 64, \n",
    "                        activation='relu'))\n",
    "model.add(layers.BatchNormalization())\n",
    "model.add(layers.ReLU())\n",
    "model.add(layers.MaxPooling1D(2))\n",
    "\n",
    "\n",
    "# Third CNN layer\n",
    "model.add(layers.Conv1D(kernel_size = 3, \n",
    "                        filters = 64, \n",
    "                        activation='relu'))\n",
    "model.add(layers.BatchNormalization())\n",
    "model.add(layers.ReLU())\n",
    "model.add(layers.MaxPooling1D(2))\n",
    "\n",
    "# Fourth CNN layer\n",
    "model.add(layers.Conv1D(kernel_size = 3, \n",
    "                        filters = 64, \n",
    "                        activation='relu'))\n",
    "model.add(layers.BatchNormalization())\n",
    "model.add(layers.ReLU())\n",
    "model.add(layers.MaxPooling1D(2))\n",
    "\n",
    "model.add(layers.Dense(32))\n",
    "model.add(layers.BatchNormalization())\n",
    "model.add(layers.Dropout(0.5))\n",
    "model.add(layers.LSTM(32, return_sequences=True))\n",
    "model.add(layers.Dropout(0.5))\n",
    "model.add(layers.LSTM(32, return_sequences=True))\n",
    "model.add(layers.Dropout(0.5))\n",
    "\n",
    "model.add(layers.Flatten())\n",
    "# model.add(layers.Dense(3))\n",
    "model.add(layers.Dense(n_outputs, activation='softmax'))\n",
    "\n",
    "opt = optimizers.Adam(learning_rate=0.0005)\n",
    "\n",
    "print(model.summary())\n",
    "model.compile(loss='categorical_crossentropy', optimizer=opt, metrics=['accuracy'])"
   ]
  },
  {
   "cell_type": "code",
   "execution_count": 32,
   "metadata": {
    "scrolled": false
   },
   "outputs": [
    {
     "name": "stdout",
     "output_type": "stream",
     "text": [
      "Epoch 1/100\n",
      "1149/1149 [==============================] - 47s 41ms/step - loss: 0.1083 - accuracy: 0.9743\n",
      "Epoch 2/100\n",
      "1149/1149 [==============================] - 48s 41ms/step - loss: 0.0698 - accuracy: 0.9790\n",
      "Epoch 3/100\n",
      "1149/1149 [==============================] - 47s 41ms/step - loss: 0.0619 - accuracy: 0.9810\n",
      "Epoch 4/100\n",
      "1149/1149 [==============================] - 47s 41ms/step - loss: 0.0556 - accuracy: 0.9818\n",
      "Epoch 5/100\n",
      "1149/1149 [==============================] - 47s 41ms/step - loss: 0.0509 - accuracy: 0.9834\n",
      "Epoch 6/100\n",
      "1149/1149 [==============================] - 46s 40ms/step - loss: 0.0484 - accuracy: 0.9839\n",
      "Epoch 7/100\n",
      "1149/1149 [==============================] - 46s 40ms/step - loss: 0.0458 - accuracy: 0.9849\n",
      "Epoch 8/100\n",
      "1149/1149 [==============================] - 46s 40ms/step - loss: 0.0435 - accuracy: 0.9854\n",
      "Epoch 9/100\n",
      "1149/1149 [==============================] - 46s 40ms/step - loss: 0.0420 - accuracy: 0.9859\n",
      "Epoch 10/100\n",
      "1149/1149 [==============================] - 46s 40ms/step - loss: 0.0418 - accuracy: 0.9858\n",
      "Epoch 11/100\n",
      "1149/1149 [==============================] - 45s 39ms/step - loss: 0.0385 - accuracy: 0.9869\n",
      "Epoch 12/100\n",
      "1149/1149 [==============================] - 45s 39ms/step - loss: 0.0376 - accuracy: 0.9875\n",
      "Epoch 13/100\n",
      "1149/1149 [==============================] - 45s 39ms/step - loss: 0.0354 - accuracy: 0.9877\n",
      "Epoch 14/100\n",
      "1149/1149 [==============================] - 45s 39ms/step - loss: 0.0358 - accuracy: 0.9879\n",
      "Epoch 15/100\n",
      "1149/1149 [==============================] - 45s 40ms/step - loss: 0.0339 - accuracy: 0.9884\n",
      "Epoch 16/100\n",
      "1149/1149 [==============================] - 45s 39ms/step - loss: 0.0328 - accuracy: 0.9887\n",
      "Epoch 17/100\n",
      "1149/1149 [==============================] - 46s 40ms/step - loss: 0.0307 - accuracy: 0.9894\n",
      "Epoch 18/100\n",
      "1149/1149 [==============================] - 46s 40ms/step - loss: 0.0300 - accuracy: 0.9895\n",
      "Epoch 19/100\n",
      "1149/1149 [==============================] - 46s 40ms/step - loss: 0.0309 - accuracy: 0.9896\n",
      "Epoch 20/100\n",
      "1149/1149 [==============================] - 46s 40ms/step - loss: 0.0291 - accuracy: 0.9898\n",
      "Epoch 21/100\n",
      "1149/1149 [==============================] - 46s 40ms/step - loss: 0.0277 - accuracy: 0.9903\n",
      "Epoch 22/100\n",
      "1149/1149 [==============================] - 46s 40ms/step - loss: 0.0276 - accuracy: 0.9907\n",
      "Epoch 23/100\n",
      "1149/1149 [==============================] - 46s 40ms/step - loss: 0.0276 - accuracy: 0.9905\n",
      "Epoch 24/100\n",
      "1149/1149 [==============================] - 46s 40ms/step - loss: 0.0251 - accuracy: 0.9913\n",
      "Epoch 25/100\n",
      "1149/1149 [==============================] - 46s 40ms/step - loss: 0.0251 - accuracy: 0.9915\n",
      "Epoch 26/100\n",
      "1149/1149 [==============================] - 46s 40ms/step - loss: 0.0241 - accuracy: 0.9915\n",
      "Epoch 27/100\n",
      "1149/1149 [==============================] - 46s 40ms/step - loss: 0.0248 - accuracy: 0.9917\n",
      "Epoch 28/100\n",
      "1149/1149 [==============================] - 46s 40ms/step - loss: 0.0242 - accuracy: 0.9916\n",
      "Epoch 29/100\n",
      "1149/1149 [==============================] - 45s 39ms/step - loss: 0.0231 - accuracy: 0.9920\n",
      "Epoch 30/100\n",
      "1149/1149 [==============================] - 46s 40ms/step - loss: 0.0227 - accuracy: 0.9923\n",
      "Epoch 31/100\n",
      "1149/1149 [==============================] - 47s 41ms/step - loss: 0.0219 - accuracy: 0.9923\n",
      "Epoch 32/100\n",
      "1149/1149 [==============================] - 47s 41ms/step - loss: 0.0227 - accuracy: 0.9919\n",
      "Epoch 33/100\n",
      "1149/1149 [==============================] - 47s 41ms/step - loss: 0.0208 - accuracy: 0.9928\n",
      "Epoch 34/100\n",
      "1149/1149 [==============================] - 702s 611ms/step - loss: 0.0197 - accuracy: 0.9930\n",
      "Epoch 35/100\n",
      "1149/1149 [==============================] - 45s 39ms/step - loss: 0.0207 - accuracy: 0.9926\n",
      "Epoch 36/100\n",
      "1149/1149 [==============================] - 44s 39ms/step - loss: 0.0201 - accuracy: 0.9931\n",
      "Epoch 37/100\n",
      "1149/1149 [==============================] - 44s 39ms/step - loss: 0.0183 - accuracy: 0.9933\n",
      "Epoch 38/100\n",
      "1149/1149 [==============================] - 44s 38ms/step - loss: 0.0192 - accuracy: 0.9934\n",
      "Epoch 39/100\n",
      "1149/1149 [==============================] - 44s 38ms/step - loss: 0.0186 - accuracy: 0.9937\n",
      "Epoch 40/100\n",
      "1149/1149 [==============================] - 44s 39ms/step - loss: 0.0176 - accuracy: 0.9938\n",
      "Epoch 41/100\n",
      "1149/1149 [==============================] - 44s 39ms/step - loss: 0.0162 - accuracy: 0.9943\n",
      "Epoch 42/100\n",
      "1149/1149 [==============================] - 44s 38ms/step - loss: 0.0177 - accuracy: 0.9938\n",
      "Epoch 43/100\n",
      "1149/1149 [==============================] - 44s 39ms/step - loss: 0.0171 - accuracy: 0.9941\n",
      "Epoch 44/100\n",
      "1149/1149 [==============================] - 44s 39ms/step - loss: 0.0167 - accuracy: 0.9941\n",
      "Epoch 45/100\n",
      "1149/1149 [==============================] - 44s 39ms/step - loss: 0.0174 - accuracy: 0.9940\n",
      "Epoch 46/100\n",
      "1149/1149 [==============================] - 45s 39ms/step - loss: 0.0163 - accuracy: 0.9945\n",
      "Epoch 47/100\n",
      "1149/1149 [==============================] - 45s 39ms/step - loss: 0.0162 - accuracy: 0.9944\n",
      "Epoch 48/100\n",
      "1149/1149 [==============================] - 45s 39ms/step - loss: 0.0157 - accuracy: 0.9945\n",
      "Epoch 49/100\n",
      "1149/1149 [==============================] - 45s 39ms/step - loss: 0.0150 - accuracy: 0.9948\n",
      "Epoch 50/100\n",
      "1149/1149 [==============================] - 45s 39ms/step - loss: 0.0146 - accuracy: 0.9949\n",
      "Epoch 51/100\n",
      "1149/1149 [==============================] - 45s 39ms/step - loss: 0.0144 - accuracy: 0.9947\n",
      "Epoch 52/100\n",
      "1149/1149 [==============================] - 45s 39ms/step - loss: 0.0136 - accuracy: 0.9955\n",
      "Epoch 53/100\n",
      "1149/1149 [==============================] - 45s 39ms/step - loss: 0.0145 - accuracy: 0.9950\n",
      "Epoch 54/100\n",
      "1149/1149 [==============================] - 45s 39ms/step - loss: 0.0139 - accuracy: 0.9947\n",
      "Epoch 55/100\n",
      "1149/1149 [==============================] - 45s 39ms/step - loss: 0.0141 - accuracy: 0.9951\n",
      "Epoch 56/100\n",
      "1149/1149 [==============================] - 45s 39ms/step - loss: 0.0137 - accuracy: 0.9952\n",
      "Epoch 57/100\n",
      "1149/1149 [==============================] - 45s 39ms/step - loss: 0.0134 - accuracy: 0.9953\n",
      "Epoch 58/100\n",
      "1149/1149 [==============================] - 45s 39ms/step - loss: 0.0133 - accuracy: 0.9953\n",
      "Epoch 59/100\n",
      "1149/1149 [==============================] - 45s 39ms/step - loss: 0.0128 - accuracy: 0.9954\n",
      "Epoch 60/100\n",
      "1149/1149 [==============================] - 45s 39ms/step - loss: 0.0117 - accuracy: 0.9957\n",
      "Epoch 61/100\n",
      "1149/1149 [==============================] - 45s 39ms/step - loss: 0.0135 - accuracy: 0.9952\n",
      "Epoch 62/100\n",
      "1149/1149 [==============================] - 45s 40ms/step - loss: 0.0132 - accuracy: 0.9954\n",
      "Epoch 63/100\n",
      "1149/1149 [==============================] - 46s 40ms/step - loss: 0.0111 - accuracy: 0.9959\n",
      "Epoch 64/100\n",
      "1149/1149 [==============================] - 45s 39ms/step - loss: 0.0121 - accuracy: 0.9957\n",
      "Epoch 65/100\n",
      "1149/1149 [==============================] - 44s 38ms/step - loss: 0.0120 - accuracy: 0.9959\n",
      "Epoch 66/100\n",
      "1149/1149 [==============================] - 44s 38ms/step - loss: 0.0112 - accuracy: 0.9960\n",
      "Epoch 67/100\n",
      "1149/1149 [==============================] - 44s 38ms/step - loss: 0.0117 - accuracy: 0.9960\n",
      "Epoch 68/100\n",
      "1149/1149 [==============================] - 44s 38ms/step - loss: 0.0110 - accuracy: 0.9961\n",
      "Epoch 69/100\n",
      "1149/1149 [==============================] - 43s 38ms/step - loss: 0.0119 - accuracy: 0.9959\n",
      "Epoch 70/100\n",
      "1149/1149 [==============================] - 43s 38ms/step - loss: 0.0110 - accuracy: 0.9962\n",
      "Epoch 71/100\n",
      "1149/1149 [==============================] - 44s 38ms/step - loss: 0.0108 - accuracy: 0.9964\n",
      "Epoch 72/100\n",
      "1149/1149 [==============================] - 44s 38ms/step - loss: 0.0104 - accuracy: 0.9965\n",
      "Epoch 73/100\n",
      "1149/1149 [==============================] - 43s 38ms/step - loss: 0.0106 - accuracy: 0.9964\n",
      "Epoch 74/100\n",
      "1149/1149 [==============================] - 43s 38ms/step - loss: 0.0111 - accuracy: 0.9960\n",
      "Epoch 75/100\n",
      "1149/1149 [==============================] - 43s 38ms/step - loss: 0.0107 - accuracy: 0.9965\n",
      "Epoch 76/100\n",
      "1149/1149 [==============================] - 43s 38ms/step - loss: 0.0108 - accuracy: 0.9964\n",
      "Epoch 77/100\n",
      "1149/1149 [==============================] - 43s 38ms/step - loss: 0.0091 - accuracy: 0.9966\n",
      "Epoch 78/100\n",
      "1149/1149 [==============================] - 44s 38ms/step - loss: 0.0097 - accuracy: 0.9964\n",
      "Epoch 79/100\n",
      "1149/1149 [==============================] - 44s 38ms/step - loss: 0.0096 - accuracy: 0.9966\n",
      "Epoch 80/100\n",
      "1149/1149 [==============================] - 44s 38ms/step - loss: 0.0099 - accuracy: 0.9965\n",
      "Epoch 81/100\n",
      "1149/1149 [==============================] - 44s 38ms/step - loss: 0.0094 - accuracy: 0.9969\n",
      "Epoch 82/100\n",
      "1149/1149 [==============================] - 44s 38ms/step - loss: 0.0092 - accuracy: 0.9967\n",
      "Epoch 83/100\n",
      "1149/1149 [==============================] - 44s 39ms/step - loss: 0.0088 - accuracy: 0.9969\n",
      "Epoch 84/100\n",
      "1149/1149 [==============================] - 44s 39ms/step - loss: 0.0098 - accuracy: 0.9965\n",
      "Epoch 85/100\n",
      "1149/1149 [==============================] - 44s 39ms/step - loss: 0.0099 - accuracy: 0.9964\n",
      "Epoch 86/100\n",
      "1149/1149 [==============================] - 44s 39ms/step - loss: 0.0080 - accuracy: 0.9973\n",
      "Epoch 87/100\n",
      "1149/1149 [==============================] - 44s 39ms/step - loss: 0.0089 - accuracy: 0.9971\n",
      "Epoch 88/100\n",
      "1149/1149 [==============================] - 44s 39ms/step - loss: 0.0088 - accuracy: 0.9970\n",
      "Epoch 89/100\n",
      "1149/1149 [==============================] - 44s 39ms/step - loss: 0.0087 - accuracy: 0.9971\n",
      "Epoch 90/100\n",
      "1149/1149 [==============================] - 44s 39ms/step - loss: 0.0089 - accuracy: 0.9969\n",
      "Epoch 91/100\n",
      "1149/1149 [==============================] - 45s 39ms/step - loss: 0.0078 - accuracy: 0.9972\n",
      "Epoch 92/100\n",
      "1149/1149 [==============================] - 44s 39ms/step - loss: 0.0084 - accuracy: 0.9970\n",
      "Epoch 93/100\n",
      "1149/1149 [==============================] - 44s 39ms/step - loss: 0.0094 - accuracy: 0.9969\n",
      "Epoch 94/100\n",
      "1149/1149 [==============================] - 45s 39ms/step - loss: 0.0078 - accuracy: 0.9971\n",
      "Epoch 95/100\n",
      "1149/1149 [==============================] - 45s 39ms/step - loss: 0.0075 - accuracy: 0.9974\n",
      "Epoch 96/100\n",
      "1149/1149 [==============================] - 45s 39ms/step - loss: 0.0074 - accuracy: 0.9973\n",
      "Epoch 97/100\n",
      "1149/1149 [==============================] - 45s 39ms/step - loss: 0.0073 - accuracy: 0.9977\n",
      "Epoch 98/100\n",
      "1149/1149 [==============================] - 45s 39ms/step - loss: 0.0080 - accuracy: 0.9973\n",
      "Epoch 99/100\n",
      "1149/1149 [==============================] - 45s 39ms/step - loss: 0.0083 - accuracy: 0.9970\n",
      "Epoch 100/100\n",
      "1149/1149 [==============================] - 45s 39ms/step - loss: 0.0081 - accuracy: 0.9974\n"
     ]
    }
   ],
   "source": [
    "i = 2\n",
    "X_train, y_train = train['X'][i], train['y'][i]\n",
    "X_test,  y_test  =  test['X'][i],  test['y'][i]\n",
    "history = model.fit(X_train, y_train, epochs = 100, batch_size = 64 )"
   ]
  },
  {
   "cell_type": "code",
   "execution_count": 33,
   "metadata": {},
   "outputs": [
    {
     "name": "stdout",
     "output_type": "stream",
     "text": [
      "643/643 - 6s - loss: 0.1079 - accuracy: 0.9842\n"
     ]
    }
   ],
   "source": [
    "test_loss, test_acc = model.evaluate(X_test, y_test, verbose = 2)"
   ]
  },
  {
   "cell_type": "code",
   "execution_count": 42,
   "metadata": {},
   "outputs": [
    {
     "data": {
      "text/plain": [
       "<matplotlib.legend.Legend at 0x7f1d202f4f90>"
      ]
     },
     "execution_count": 42,
     "metadata": {},
     "output_type": "execute_result"
    },
    {
     "data": {
      "image/png": "[encoded data removed]",
      "text/plain": [
       "<Figure size 432x288 with 1 Axes>"
      ]
     },
     "metadata": {
      "needs_background": "light"
     },
     "output_type": "display_data"
    }
   ],
   "source": [
    "plt.plot(history.history['accuracy'], label='accuracy')\n",
    "plt.plot(history.history['loss'], label='loss')\n",
    "# plt.plot(history.history['val_accuracy'], label = 'val_accuracy')\n",
    "plt.xlabel('Epoch')\n",
    "plt.ylabel('Accuracy')\n",
    "plt.ylim([0, 1])\n",
    "plt.legend(loc='lower right')"
   ]
  },
  {
   "cell_type": "code",
   "execution_count": 35,
   "metadata": {},
   "outputs": [],
   "source": [
    "y_pred = model.predict(X_test)"
   ]
  },
  {
   "cell_type": "code",
   "execution_count": 36,
   "metadata": {},
   "outputs": [],
   "source": [
    "y_pred_max = np.argmax(y_pred, axis=1)\n",
    "y_test_max = np.argmax(y_test, axis=1)"
   ]
  },
  {
   "cell_type": "code",
   "execution_count": 37,
   "metadata": {},
   "outputs": [
    {
     "data": {
      "text/plain": [
       "array([[20047,    72,    50],\n",
       "       [  150,    48,     4],\n",
       "       [   47,     1,   136]])"
      ]
     },
     "execution_count": 37,
     "metadata": {},
     "output_type": "execute_result"
    }
   ],
   "source": [
    "from sklearn.metrics import classification_report, confusion_matrix\n",
    "confusion_matrix(y_test_max, y_pred_max)"
   ]
  },
  {
   "cell_type": "code",
   "execution_count": 38,
   "metadata": {},
   "outputs": [
    {
     "name": "stdout",
     "output_type": "stream",
     "text": [
      "              precision    recall  f1-score   support\n",
      "\n",
      "     no fall       0.99      0.99      0.99     20169\n",
      "    pre-fall       0.40      0.24      0.30       202\n",
      "        fall       0.72      0.74      0.73       184\n",
      "\n",
      "    accuracy                           0.98     20555\n",
      "   macro avg       0.70      0.66      0.67     20555\n",
      "weighted avg       0.98      0.98      0.98     20555\n",
      "\n"
     ]
    }
   ],
   "source": [
    "print(classification_report(y_test_max, y_pred_max, target_names=['no fall', 'pre-fall', 'fall']))"
   ]
  },
  {
   "cell_type": "markdown",
   "metadata": {},
   "source": [
    "## Metrics for classification\n",
    "\n",
    "\\begin{align}\n",
    "\\text{Sensitivity} &= \\frac{\\text{TP}}{\\text{TP} + \\text{FN}} \\\\\n",
    "\\text{Specificity} &= \\frac{\\text{TN}}{\\text{TN} + \\text{FP}} \\\\\n",
    "\\text{Accuracy} &= \\frac{\\text{TP} + \\text{TN}}{\\text{TP} + \\text{FP} + \\text{TN} + \\text{FN}} \\\\\n",
    "\\end{align}"
   ]
  },
  {
   "cell_type": "code",
   "execution_count": 43,
   "metadata": {},
   "outputs": [
    {
     "name": "stdout",
     "output_type": "stream",
     "text": [
      " Label 0\n",
      "    accuracy\t0.984\n",
      " specificity\t0.490\n",
      " sensitivity\t0.994\n",
      " Label 1\n",
      "    accuracy\t0.989\n",
      " specificity\t0.996\n",
      " sensitivity\t0.238\n",
      " Label 2\n",
      "    accuracy\t0.995\n",
      " specificity\t0.997\n",
      " sensitivity\t0.739\n"
     ]
    }
   ],
   "source": [
    "def truth_test(_test,_pred, i):\n",
    "    _test = np.array(_test)\n",
    "    _pred = np.array(_pred)\n",
    "    \n",
    "    _pred_pos = _test[_pred == i]\n",
    "    _pred_neg = _test[_pred != i]\n",
    "    \n",
    "    _true_pos = len(_pred_pos[_pred_pos == i])\n",
    "    _fals_pos = len(_pred_pos[_pred_pos != i])\n",
    "    \n",
    "    _true_neg = len(_pred_neg[_pred_neg != i])\n",
    "    _fals_neg = len(_pred_neg[_pred_neg == i])\n",
    "    \n",
    "    return _true_pos, _fals_pos, _true_neg, _fals_neg\n",
    "\n",
    "def sensitivity(_test,_pred, i):\n",
    "    tp, fp, tn, fn = truth_test(_test, _pred, i)\n",
    "    return tp / ( tp + fn)\n",
    "\n",
    "def specificity(_test,_pred, i):\n",
    "    tp, fp, tn, fn = truth_test(_test, _pred, i)\n",
    "    return tn / ( tn + fp)\n",
    "\n",
    "def accuracy(_test, _pred, i):\n",
    "    tp, fp, tn, fn = truth_test(_test, _pred, i)\n",
    "    return (tp+tn) / (tp + fp + tn + fn)\n",
    "\n",
    "for i in range(3):\n",
    "    print(\" Label\", i)\n",
    "    print(\"    accuracy\\t%5.3f\"%accuracy(y_test_max, y_pred_max, i))\n",
    "    print(\" specificity\\t%5.3f\"%specificity(y_test_max, y_pred_max, i))\n",
    "    print(\" sensitivity\\t%5.3f\"%sensitivity(y_test_max, y_pred_max, i))"
   ]
  },
  {
   "cell_type": "code",
   "execution_count": 40,
   "metadata": {},
   "outputs": [
    {
     "name": "stdout",
     "output_type": "stream",
     "text": [
      "Saved model to disk\n"
     ]
    }
   ],
   "source": [
    "from tensorflow.keras.models import model_from_json\n",
    "import h5py\n",
    "# serialize model to JSON\n",
    "model_json = model.to_json()\n",
    "with open(\"model_100.json\", \"w\") as json_file:\n",
    "    json_file.write(model_json)\n",
    "# serialize weights to HDF5\n",
    "model.save_weights(\"model_100.h5\")\n",
    "print(\"Saved model to disk\")"
   ]
  },
  {
   "cell_type": "code",
   "execution_count": 29,
   "metadata": {},
   "outputs": [
    {
     "name": "stdout",
     "output_type": "stream",
     "text": [
      "Loaded model from disk\n",
      "accuracy: 98.50%\n"
     ]
    }
   ],
   "source": [
    "import keras\n",
    "json_file = open('model.json', 'r')\n",
    "loaded_model_json = json_file.read()\n",
    "json_file.close()\n",
    "\n",
    "loaded_model = model_from_json(loaded_model_json)\n",
    "# load weights into new model\n",
    "loaded_model.load_weights(\"model.h5\")\n",
    "print(\"Loaded model from disk\")\n",
    "\n",
    "# evaluate loaded model on test data\n",
    "loaded_model.compile(loss='binary_crossentropy', optimizer='rmsprop', metrics=['accuracy'])\n",
    "score = loaded_model.evaluate(X_test, y_test, verbose=0)\n",
    "print(\"%s: %.2f%%\" % (loaded_model.metrics_names[1], score[1]*100))"
   ]
  },
  {
   "cell_type": "code",
   "execution_count": 28,
   "metadata": {
    "scrolled": true
   },
   "outputs": [
    {
     "name": "stdout",
     "output_type": "stream",
     "text": [
      "Loaded model from disk\n"
     ]
    }
   ],
   "source": [
    "loaded_model = model_from_json(loaded_model_json)\n",
    "# load weights into new model\n",
    "loaded_model.load_weights(\"model.h5\")\n",
    "print(\"Loaded model from disk\")"
   ]
  },
  {
   "cell_type": "code",
   "execution_count": 45,
   "metadata": {},
   "outputs": [
    {
     "data": {
      "text/plain": [
       "<matplotlib.image.AxesImage at 0x7f1d202749d0>"
      ]
     },
     "execution_count": 45,
     "metadata": {},
     "output_type": "execute_result"
    },
    {
     "data": {
      "image/png": "[encoded data removed]",
      "text/plain": [
       "<Figure size 432x288 with 1 Axes>"
      ]
     },
     "metadata": {
      "needs_background": "light"
     },
     "output_type": "display_data"
    }
   ],
   "source": [
    "plt.imshow([[20047,    72,    50],\n",
    "            [  150,    48,     4],\n",
    "            [   47,     1,   136]])"
   ]
  },
  {
   "cell_type": "code",
   "execution_count": null,
   "metadata": {},
   "outputs": [],
   "source": []
  }
 ],
 "metadata": {
  "kernelspec": {
   "display_name": "Python 3",
   "language": "python",
   "name": "python3"
  },
  "language_info": {
   "codemirror_mode": {
    "name": "ipython",
    "version": 3
   },
   "file_extension": ".py",
   "mimetype": "text/x-python",
   "name": "python",
   "nbconvert_exporter": "python",
   "pygments_lexer": "ipython3",
   "version": "3.7.6"
  }
 },
 "nbformat": 4,
 "nbformat_minor": 2
}
